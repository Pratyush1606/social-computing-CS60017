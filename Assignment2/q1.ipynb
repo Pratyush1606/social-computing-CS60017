{
 "cells": [
  {
   "cell_type": "code",
   "execution_count": 1,
   "metadata": {},
   "outputs": [],
   "source": [
    "from pathlib import Path\n",
    "def f2(t):\n",
    "    print(t)\n",
    "\n",
    "\n",
    "def print_11():\n",
    "    cap.show()\n",
    "    with open(NEWMAN_OUTPUT_FILE, \"a\") as f:\n",
    "        f.write(cap.stdout)"
   ]
  },
  {
   "cell_type": "code",
   "execution_count": 2,
   "metadata": {},
   "outputs": [],
   "source": [
    "def f(i):\n",
    "    print(i)"
   ]
  },
  {
   "cell_type": "code",
   "execution_count": 4,
   "metadata": {},
   "outputs": [],
   "source": [
    "%%capture cap --no-stderr\n",
    "f2(2)\n",
    "f(1)\n",
    "NEWMAN_OUTPUT_FILE = Path(\".\\output_1_NEWMAN.txt\")"
   ]
  },
  {
   "cell_type": "code",
   "execution_count": 5,
   "metadata": {},
   "outputs": [
    {
     "name": "stdout",
     "output_type": "stream",
     "text": [
      "2\n",
      "1\n"
     ]
    }
   ],
   "source": [
    "print_11()"
   ]
  },
  {
   "cell_type": "code",
   "execution_count": null,
   "metadata": {},
   "outputs": [],
   "source": [
    "cap.show()\n",
    "with open(NEWMAN_OUTPUT_FILE, \"a\") as f:\n",
    "    f.write(cap.stdout)"
   ]
  },
  {
   "cell_type": "code",
   "execution_count": null,
   "metadata": {},
   "outputs": [],
   "source": [
    "# with open(NEWMAN_OUTPUT_FILE, \"a\") as f:\n",
    "#     f.write(cap.stdout)\n",
    "# # NEWMAN_OUTPUT.write(cap.stdout)\n"
   ]
  },
  {
   "cell_type": "markdown",
   "metadata": {},
   "source": [
    "# Question 1"
   ]
  }
 ],
 "metadata": {
  "interpreter": {
   "hash": "fe375a9ce2d9243127937c9048facb22f9949856fe81fc1182d9f1b29e53be41"
  },
  "kernelspec": {
   "display_name": "Python 3.7.9 64-bit ('env': venv)",
   "name": "python3"
  },
  "language_info": {
   "codemirror_mode": {
    "name": "ipython",
    "version": 3
   },
   "file_extension": ".py",
   "mimetype": "text/x-python",
   "name": "python",
   "nbconvert_exporter": "python",
   "pygments_lexer": "ipython3",
   "version": "3.7.9"
  },
  "orig_nbformat": 4
 },
 "nbformat": 4,
 "nbformat_minor": 2
}
