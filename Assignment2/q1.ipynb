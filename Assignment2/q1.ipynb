{
 "cells": [
  {
   "cell_type": "markdown",
   "metadata": {},
   "source": [
    "# Question 1"
   ]
  },
  {
   "cell_type": "code",
   "execution_count": 51,
   "metadata": {},
   "outputs": [],
   "source": [
    "import networkx as nx\n",
    "import matplotlib.pyplot as plt\n",
    "from pathlib import Path\n",
    "from networkx.algorithms import community\n",
    "from collections import defaultdict\n",
    "import os\n",
    "from config import CONFIG"
   ]
  },
  {
   "cell_type": "code",
   "execution_count": 52,
   "metadata": {},
   "outputs": [],
   "source": [
    "# Configuring file locations of datasets, plots and output files\n",
    "# Datasets\n",
    "FOOTBALL_DATASET = os.path.join(CONFIG[\"DATASET_DIR\"], \"football.gml\")\n",
    "POLBOOKS_DATASET = os.path.join(CONFIG[\"DATASET_DIR\"], \"polbooks.gml\")\n",
    "\n",
    "FOOTBALL_TRUE_COMMS_NUM = 12\n",
    "POLBOOKS_TRUE_COMMS_NUM = 3\n",
    "\n",
    "# Plot Directory\n",
    "PLOT_DIR = CONFIG[\"PLOT_DIR\"]\n",
    "\n",
    "# Output Text Files\n",
    "NEWMAN_OUTPUT_FILE = Path(\".\\output_1_NEWMAN.txt\")\n",
    "CLAUSET_OUTPUT_FILE = Path(\".\\output_1_CLAUSET.txt\")\n",
    "\n",
    "# Making the blank output files\n",
    "with open(NEWMAN_OUTPUT_FILE, \"w\") as f:\n",
    "    f.write(\"\")\n",
    "with open(CLAUSET_OUTPUT_FILE, \"w\") as f:\n",
    "    f.write(\"\")\n",
    "\n",
    "newman_file = None\n",
    "clauset_file = None\n",
    "\n",
    "NEWMAN_METHOD_NAME = \"NEWMAN\"\n",
    "CLAUSET_METHOD_NAME = \"CLAUSET\"\n",
    "FOOTBALL_DATASET_NAME = \"FOOTBALL\"\n",
    "POLBOOKS_DATASET_NAME = \"POLBOOKS\""
   ]
  },
  {
   "cell_type": "code",
   "execution_count": 53,
   "metadata": {},
   "outputs": [],
   "source": [
    "def open_NEWMAN():\n",
    "    global newman_file\n",
    "    newman_file = open(NEWMAN_OUTPUT_FILE, \"a\")\n",
    "\n",
    "def close_NEWMAN():\n",
    "    global newman_file\n",
    "    newman_file.close()\n",
    "\n",
    "def open_CLAUSET():\n",
    "    global clauset_file\n",
    "    clauset_file = open(CLAUSET_OUTPUT_FILE, \"a\")\n",
    "\n",
    "def close_CLAUSET():\n",
    "    global clauset_file\n",
    "    clauset_file.close()"
   ]
  },
  {
   "cell_type": "code",
   "execution_count": 54,
   "metadata": {},
   "outputs": [],
   "source": [
    "# Reading graphs\n",
    "FOOTBALL_GRAPH = nx.read_gml(FOOTBALL_DATASET)\n",
    "POLBOOKS_GRAPH = nx.read_gml(POLBOOKS_DATASET)"
   ]
  },
  {
   "cell_type": "markdown",
   "metadata": {},
   "source": [
    "## PART A"
   ]
  },
  {
   "cell_type": "code",
   "execution_count": 55,
   "metadata": {},
   "outputs": [],
   "source": [
    "def get_num_of_communities(methodname, datasetname, graph, output_file, true_comms_num=None):\n",
    "    '''\n",
    "    Calculates the number of communities generated\n",
    "\n",
    "    Also returns the list of communities\n",
    "    '''\n",
    "    print(\"Dataset: {}\".format(datasetname), file=output_file)\n",
    "    if(methodname == NEWMAN_METHOD_NAME):\n",
    "        communities = list(list(community.girvan_newman(graph))[true_comms_num-2])\n",
    "        num_communities = len(communities)\n",
    "        print(\"Number of communities using Newman-Girvan method: {}\".format(num_communities), file=output_file)\n",
    "        \n",
    "    elif(methodname == CLAUSET_METHOD_NAME):\n",
    "        communities = list(community.greedy_modularity_communities(graph))\n",
    "        num_communities = len(communities)\n",
    "        print(\"Number of communities using Clauset-Newman-Moore greedy modularity maximization method: {}\".format(num_communities), file=output_file)\n",
    "    print(file=output_file)\n",
    "    return communities"
   ]
  },
  {
   "cell_type": "code",
   "execution_count": 56,
   "metadata": {},
   "outputs": [],
   "source": [
    "open_NEWMAN()\n",
    "FOOTBALL_NEWMAN_COMMUNITIES = get_num_of_communities(NEWMAN_METHOD_NAME, FOOTBALL_DATASET_NAME, FOOTBALL_GRAPH, newman_file, FOOTBALL_TRUE_COMMS_NUM)\n",
    "POLBOOKS_NEWMAN_COMMUNITIES = get_num_of_communities(NEWMAN_METHOD_NAME, POLBOOKS_DATASET_NAME, POLBOOKS_GRAPH, newman_file, POLBOOKS_TRUE_COMMS_NUM)\n",
    "close_NEWMAN()\n",
    "open_CLAUSET()\n",
    "FOOTBALL_CLAUSET_COMMUNITIES = get_num_of_communities(CLAUSET_METHOD_NAME, FOOTBALL_DATASET_NAME, FOOTBALL_GRAPH, clauset_file, FOOTBALL_TRUE_COMMS_NUM)\n",
    "POLBOOKS_CLAUSET_COMMUNITIES = get_num_of_communities(CLAUSET_METHOD_NAME, POLBOOKS_DATASET_NAME, POLBOOKS_GRAPH, clauset_file, POLBOOKS_TRUE_COMMS_NUM)\n",
    "close_CLAUSET()"
   ]
  },
  {
   "cell_type": "code",
   "execution_count": 57,
   "metadata": {},
   "outputs": [],
   "source": [
    "def plot_community_size_distribution(methodname, datasetname, communities):\n",
    "    '''\n",
    "    Plots the community size distribution for diff datasets and methods\n",
    "\n",
    "    communities: List of communities\n",
    "    '''\n",
    "    print(\"Plotting Community Size distribution of {} graph using {} method\".format(datasetname, methodname))\n",
    "    points = []\n",
    "    for c in communities:\n",
    "        points.append(len(c))\n",
    "    plt.hist(points)\n",
    "    plt.xlabel(\"Size of Communities\")\n",
    "    plt.ylabel(\"Frequency\")\n",
    "    plt.title(\"Community Size distribution of {} graph using {} method\".format(datasetname, methodname))\n",
    "    fig_destination = os.path.join(PLOT_DIR, f\"{datasetname}_{methodname}_dist.png\")\n",
    "    plt.savefig(fig_destination)\n",
    "    plt.close()\n",
    "    print(\"Plotting Done\")"
   ]
  },
  {
   "cell_type": "code",
   "execution_count": 76,
   "metadata": {},
   "outputs": [
    {
     "name": "stdout",
     "output_type": "stream",
     "text": [
      "Plotting Community Size distribution of FOOTBALL graph using NEWMAN method\n",
      "Plotting Done\n",
      "Plotting Community Size distribution of POLBOOKS graph using NEWMAN method\n",
      "Plotting Done\n",
      "Plotting Community Size distribution of FOOTBALL graph using CLAUSET method\n",
      "Plotting Done\n",
      "Plotting Community Size distribution of POLBOOKS graph using CLAUSET method\n",
      "Plotting Done\n"
     ]
    }
   ],
   "source": [
    "plot_community_size_distribution(NEWMAN_METHOD_NAME, FOOTBALL_DATASET_NAME, FOOTBALL_NEWMAN_COMMUNITIES)\n",
    "plot_community_size_distribution(NEWMAN_METHOD_NAME, POLBOOKS_DATASET_NAME, POLBOOKS_NEWMAN_COMMUNITIES)\n",
    "plot_community_size_distribution(CLAUSET_METHOD_NAME, FOOTBALL_DATASET_NAME, FOOTBALL_CLAUSET_COMMUNITIES)\n",
    "plot_community_size_distribution(CLAUSET_METHOD_NAME, POLBOOKS_DATASET_NAME, POLBOOKS_CLAUSET_COMMUNITIES)"
   ]
  },
  {
   "cell_type": "code",
   "execution_count": 83,
   "metadata": {},
   "outputs": [],
   "source": [
    "def plot_ground_truth_community_size_distribution(methodname, datasetname, graph):\n",
    "    '''\n",
    "    Plot the ground truth community size distribution\n",
    "    \n",
    "    Here the nodes with same `value` are being considered in the same true community.\n",
    "    '''\n",
    "    # Making the ground truth community\n",
    "    communities = defaultdict(list)\n",
    "    for node, value in list(graph.nodes(data=\"value\")):\n",
    "        communities[value].append(node)\n",
    "    ground_truth_communities = list(communities.values())\n",
    "    \n",
    "    # Plotting the histogram\n",
    "    print(\"Plotting Ground Truth Community Size distribution of {} using {} method\".format(datasetname, methodname))\n",
    "    points = []\n",
    "    for c in ground_truth_communities:\n",
    "        points.append(len(c))\n",
    "    plt.hist(points, rwidth=0.2)\n",
    "    plt.xlabel(\"Size of Ground Truth Communities\")\n",
    "    plt.ylabel(\"Frequency\")\n",
    "    plt.title(\"Ground Truth Community Size distribution of {} using {} method\".format(datasetname, methodname))\n",
    "    fig_destination = os.path.join(PLOT_DIR, f\"ground_truth_communities_dist_{datasetname}_{methodname}.png\")\n",
    "    plt.savefig(fig_destination)\n",
    "    plt.close()\n",
    "    print(\"Plotting Done\")\n",
    "    print()\n",
    "    return ground_truth_communities"
   ]
  },
  {
   "cell_type": "code",
   "execution_count": 84,
   "metadata": {},
   "outputs": [
    {
     "name": "stdout",
     "output_type": "stream",
     "text": [
      "Plotting Ground Truth Community Size distribution of FOOTBALL using NEWMAN method\n",
      "Plotting Done\n",
      "\n",
      "Plotting Ground Truth Community Size distribution of POLBOOKS using NEWMAN method\n",
      "Plotting Done\n",
      "\n",
      "Plotting Ground Truth Community Size distribution of FOOTBALL using CLAUSET method\n",
      "Plotting Done\n",
      "\n",
      "Plotting Ground Truth Community Size distribution of POLBOOKS using CLAUSET method\n",
      "Plotting Done\n",
      "\n"
     ]
    }
   ],
   "source": [
    "FOOTBALL_NEWMAN_GROUND_TRUTH_COMMUNITIES = plot_ground_truth_community_size_distribution(NEWMAN_METHOD_NAME, FOOTBALL_DATASET_NAME, FOOTBALL_GRAPH)\n",
    "POLBOOKS_NEWMAN_GROUND_TRUTH_COMMUNITIES = plot_ground_truth_community_size_distribution(NEWMAN_METHOD_NAME, POLBOOKS_DATASET_NAME, POLBOOKS_GRAPH)\n",
    "FOOTBALL_CLAUSET_GROUND_TRUTH_COMMUNITIES = plot_ground_truth_community_size_distribution(CLAUSET_METHOD_NAME, FOOTBALL_DATASET_NAME, FOOTBALL_GRAPH)\n",
    "POLBOOKS_CLAUSET_GROUND_TRUTH_COMMUNITIES = plot_ground_truth_community_size_distribution(CLAUSET_METHOD_NAME, POLBOOKS_DATASET_NAME, POLBOOKS_GRAPH)"
   ]
  },
  {
   "cell_type": "code",
   "execution_count": 61,
   "metadata": {},
   "outputs": [],
   "source": [
    "def get_top_5_communities(communities):\n",
    "    '''\n",
    "    Get the top 5 communities based on the number of nodes from a list of communities'''\n",
    "    return sorted(communities, key=lambda com: len(com), reverse=True)[:5]"
   ]
  },
  {
   "cell_type": "code",
   "execution_count": 62,
   "metadata": {},
   "outputs": [],
   "source": [
    "def get_top_communtiy(communities):\n",
    "    '''\n",
    "    Get the top community based on the number of nodes from a list of communities'''\n",
    "    return sorted(communities, key=lambda com: len(com), reverse=True)[0]"
   ]
  },
  {
   "cell_type": "code",
   "execution_count": 63,
   "metadata": {},
   "outputs": [],
   "source": [
    "def get_subragphs_from_communities(graph, communities):\n",
    "    '''\n",
    "    Get a list of subgraphs from a list of community nodes and the original graph\n",
    "    '''\n",
    "    communities_subgraphs = []\n",
    "    for com in communities:\n",
    "        subgraph = graph.subgraph(com).copy()\n",
    "        communities_subgraphs.append(subgraph)\n",
    "    return communities_subgraphs"
   ]
  },
  {
   "cell_type": "code",
   "execution_count": 64,
   "metadata": {},
   "outputs": [],
   "source": [
    "def print_top_5_communities_size(methodname, datasetname, community_subgraphs, output_file):\n",
    "    '''\n",
    "    Print the size of the top 5 communities in the form of  (number of nodes, number of edges)\n",
    "    '''\n",
    "    print(\"Method: {}\".format(methodname), file=output_file)\n",
    "    print(\"Dataset: {}\".format(datasetname), file=output_file)\n",
    "    for i in range(len(community_subgraphs)):\n",
    "        community_subgraph = community_subgraphs[i]\n",
    "        number_of_nodes = community_subgraph.number_of_nodes()\n",
    "        number_of_edges = community_subgraph.number_of_edges()\n",
    "        print(f\"Community {i+1}: (number_of_nodes = {number_of_nodes}, number_of_edges = {number_of_edges})\", file=output_file)\n",
    "    print(file=output_file)"
   ]
  },
  {
   "cell_type": "code",
   "execution_count": 65,
   "metadata": {},
   "outputs": [],
   "source": [
    "FOOTBALL_NEWMAN_TOP_5_COMMUNITIES = get_top_5_communities(FOOTBALL_NEWMAN_COMMUNITIES)\n",
    "POLBOOKS_NEWMAN_TOP_5_COMMUNITIES = get_top_5_communities(POLBOOKS_NEWMAN_COMMUNITIES)\n",
    "FOOTBALL_CLAUSET_TOP_5_COMMUNITIES = get_top_5_communities(FOOTBALL_CLAUSET_COMMUNITIES)\n",
    "POLBOOKS_CLAUSET_TOP_5_COMMUNITIES = get_top_5_communities(POLBOOKS_CLAUSET_COMMUNITIES)"
   ]
  },
  {
   "cell_type": "code",
   "execution_count": 66,
   "metadata": {},
   "outputs": [],
   "source": [
    "FOOTBALL_NEWMAN_TOP_5_COMMUNITIES_SUBGRAPHS = get_subragphs_from_communities(FOOTBALL_GRAPH, FOOTBALL_NEWMAN_TOP_5_COMMUNITIES)\n",
    "POLBOOKS_NEWMAN_TOP_5_COMMUNITIES_SUBGRAPHS = get_subragphs_from_communities(POLBOOKS_GRAPH, POLBOOKS_NEWMAN_TOP_5_COMMUNITIES)\n",
    "FOOTBALL_CLAUSET_TOP_5_COMMUNITIES_SUBGRAPHS =  get_subragphs_from_communities(FOOTBALL_GRAPH, FOOTBALL_CLAUSET_TOP_5_COMMUNITIES)\n",
    "POLBOOKS_CLAUSET_TOP_5_COMMUNITIES_SUBGRAPHS = get_subragphs_from_communities(POLBOOKS_GRAPH, POLBOOKS_CLAUSET_TOP_5_COMMUNITIES)"
   ]
  },
  {
   "cell_type": "code",
   "execution_count": 67,
   "metadata": {},
   "outputs": [],
   "source": [
    "open_NEWMAN()\n",
    "print_top_5_communities_size(NEWMAN_METHOD_NAME, FOOTBALL_DATASET_NAME, FOOTBALL_NEWMAN_TOP_5_COMMUNITIES_SUBGRAPHS, newman_file)\n",
    "print_top_5_communities_size(NEWMAN_METHOD_NAME, POLBOOKS_DATASET_NAME, POLBOOKS_NEWMAN_TOP_5_COMMUNITIES_SUBGRAPHS, newman_file)\n",
    "close_NEWMAN()\n",
    "open_CLAUSET()\n",
    "print_top_5_communities_size(CLAUSET_METHOD_NAME, FOOTBALL_DATASET_NAME, FOOTBALL_CLAUSET_TOP_5_COMMUNITIES_SUBGRAPHS, clauset_file)\n",
    "print_top_5_communities_size(CLAUSET_METHOD_NAME, POLBOOKS_DATASET_NAME, POLBOOKS_CLAUSET_TOP_5_COMMUNITIES_SUBGRAPHS, clauset_file)\n",
    "close_CLAUSET()"
   ]
  },
  {
   "cell_type": "code",
   "execution_count": 68,
   "metadata": {},
   "outputs": [],
   "source": [
    "def get_community_coverage(graph, community):\n",
    "    '''\n",
    "    Get the coverage of a communtiy\n",
    "    '''\n",
    "    # Making a set of community nodes\n",
    "    if(not isinstance(community, set)):\n",
    "        community = set(community)\n",
    "    \n",
    "    intra_community_edges = 0\n",
    "    # Iterating over the links to count intra community edges\n",
    "    for e in graph.edges():\n",
    "        if((e[0] in community) and (e[1] in community)):\n",
    "            intra_community_edges += 1\n",
    "    coverage = intra_community_edges / len(graph.edges)\n",
    "    return coverage"
   ]
  },
  {
   "cell_type": "code",
   "execution_count": 69,
   "metadata": {},
   "outputs": [],
   "source": [
    "def get_top_5_community_coverage(methodname, datasetname, graph, communities, output_file):\n",
    "    '''\n",
    "    Get the coverage of the top 5 communities\n",
    "    '''\n",
    "    print(\"Method: {}\".format(methodname), file=output_file)\n",
    "    print(\"Dataset: {}\".format(datasetname), file=output_file)\n",
    "    for i in range(len(communities)):\n",
    "        coverage = get_community_coverage(graph, communities[i])\n",
    "        print(\"Coverage of community {} = {}\".format(i+1, coverage), file=output_file)\n",
    "    print(file=output_file)"
   ]
  },
  {
   "cell_type": "code",
   "execution_count": 70,
   "metadata": {},
   "outputs": [],
   "source": [
    "open_NEWMAN()\n",
    "get_top_5_community_coverage(NEWMAN_METHOD_NAME, FOOTBALL_DATASET_NAME, FOOTBALL_GRAPH, FOOTBALL_NEWMAN_TOP_5_COMMUNITIES, newman_file)\n",
    "get_top_5_community_coverage(NEWMAN_METHOD_NAME, POLBOOKS_DATASET_NAME, POLBOOKS_GRAPH, POLBOOKS_NEWMAN_TOP_5_COMMUNITIES, newman_file)\n",
    "close_NEWMAN()\n",
    "open_CLAUSET()\n",
    "get_top_5_community_coverage(CLAUSET_METHOD_NAME, FOOTBALL_DATASET_NAME, FOOTBALL_GRAPH, FOOTBALL_CLAUSET_TOP_5_COMMUNITIES, clauset_file)\n",
    "get_top_5_community_coverage(CLAUSET_METHOD_NAME, POLBOOKS_DATASET_NAME, POLBOOKS_GRAPH, POLBOOKS_CLAUSET_TOP_5_COMMUNITIES, clauset_file)\n",
    "close_CLAUSET()"
   ]
  },
  {
   "cell_type": "code",
   "execution_count": 71,
   "metadata": {},
   "outputs": [],
   "source": [
    "def get_jaccard_coefficient(methodname, datasetname, community1, community2, output_file):\n",
    "    '''\n",
    "    https://networkx.org/documentation/stable/reference/algorithms/generated/networkx.algorithms.link_prediction.jaccard_coefficient.html#networkx.algorithms.link_prediction.jaccard_coefficient\n",
    "\n",
    "    https://stackoverflow.com/questions/50704439/python-jaccard-similartity-between-two-networks\n",
    "    '''\n",
    "    print(\"Method: {}\".format(methodname), file=output_file)\n",
    "    print(\"Dataset: {}\".format(datasetname), file=output_file)\n",
    "    union_size = len(set(community1) | set(community2))\n",
    "    intersection_size = len(set(community1) & set(community2))\n",
    "    coeff = 0\n",
    "    if(union_size != 0):\n",
    "        coeff = intersection_size / union_size\n",
    "    print(\"jaccard coefficient = {}\".format(coeff), file=output_file)\n",
    "    print(file=output_file)"
   ]
  },
  {
   "cell_type": "code",
   "execution_count": 72,
   "metadata": {},
   "outputs": [],
   "source": [
    "FOOTBALL_NEWMAN_TOP_COMMUNITY = FOOTBALL_NEWMAN_TOP_5_COMMUNITIES[0]\n",
    "POLBOOKS_NEWMAN_TOP_COMMUNITY = POLBOOKS_NEWMAN_TOP_5_COMMUNITIES[0]\n",
    "FOOTBALL_CLAUSET_TOP_COMMUNITY = FOOTBALL_CLAUSET_TOP_5_COMMUNITIES[0]\n",
    "POLBOOKS_CLAUSET_TOP_COMMUNITY = POLBOOKS_CLAUSET_TOP_5_COMMUNITIES[0]"
   ]
  },
  {
   "cell_type": "code",
   "execution_count": 73,
   "metadata": {},
   "outputs": [],
   "source": [
    "\n",
    "FOOTBALL_NEWMAN_GROUND_TRUTH_TOP_COMMUNITY = get_top_communtiy(FOOTBALL_NEWMAN_GROUND_TRUTH_COMMUNITIES)\n",
    "POLBOOKS_NEWMAN_GROUND_TRUTH_TOP_COMMUNITY = get_top_communtiy(POLBOOKS_NEWMAN_GROUND_TRUTH_COMMUNITIES)\n",
    "FOOTBALL_CLAUSET_GROUND_TRUTH_TOP_COMMUNITY = get_top_communtiy(FOOTBALL_CLAUSET_GROUND_TRUTH_COMMUNITIES)\n",
    "POLBOOKS_CLAUSET_GROUND_TRUTH_TOP_COMMUNITY = get_top_communtiy(POLBOOKS_CLAUSET_GROUND_TRUTH_COMMUNITIES)"
   ]
  },
  {
   "cell_type": "code",
   "execution_count": 74,
   "metadata": {},
   "outputs": [],
   "source": [
    "open_NEWMAN()\n",
    "get_jaccard_coefficient(NEWMAN_METHOD_NAME, FOOTBALL_DATASET_NAME, FOOTBALL_NEWMAN_TOP_COMMUNITY, FOOTBALL_NEWMAN_GROUND_TRUTH_TOP_COMMUNITY, newman_file)\n",
    "get_jaccard_coefficient(NEWMAN_METHOD_NAME, POLBOOKS_DATASET_NAME, POLBOOKS_NEWMAN_TOP_COMMUNITY, POLBOOKS_NEWMAN_GROUND_TRUTH_TOP_COMMUNITY, newman_file)\n",
    "close_NEWMAN()\n",
    "open_CLAUSET()\n",
    "get_jaccard_coefficient(CLAUSET_METHOD_NAME, FOOTBALL_DATASET_NAME, FOOTBALL_CLAUSET_TOP_COMMUNITY, FOOTBALL_CLAUSET_GROUND_TRUTH_TOP_COMMUNITY, clauset_file)\n",
    "get_jaccard_coefficient(CLAUSET_METHOD_NAME, POLBOOKS_DATASET_NAME, POLBOOKS_CLAUSET_TOP_COMMUNITY, POLBOOKS_CLAUSET_GROUND_TRUTH_TOP_COMMUNITY, clauset_file)\n",
    "close_CLAUSET()"
   ]
  }
 ],
 "metadata": {
  "interpreter": {
   "hash": "fe375a9ce2d9243127937c9048facb22f9949856fe81fc1182d9f1b29e53be41"
  },
  "kernelspec": {
   "display_name": "Python 3.7.9 64-bit ('env': venv)",
   "name": "python3"
  },
  "language_info": {
   "codemirror_mode": {
    "name": "ipython",
    "version": 3
   },
   "file_extension": ".py",
   "mimetype": "text/x-python",
   "name": "python",
   "nbconvert_exporter": "python",
   "pygments_lexer": "ipython3",
   "version": "3.7.9"
  },
  "orig_nbformat": 4
 },
 "nbformat": 4,
 "nbformat_minor": 2
}
