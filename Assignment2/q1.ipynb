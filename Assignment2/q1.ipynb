{
 "cells": [
  {
   "cell_type": "code",
   "execution_count": null,
   "metadata": {},
   "outputs": [],
   "source": [
    "# %%capture cap --no-stderr\n",
    "\n",
    "import networkx as nx\n",
    "import matplotlib.pyplot as plt\n",
    "from pathlib import Path\n",
    "from networkx.algorithms import community\n",
    "import os\n",
    "import sys\n",
    "\n",
    "# Configuring file locations of datasets, plots and output files\n",
    "from config import CONFIG\n",
    "\n",
    "# Datasets\n",
    "DBLP_DATASET = os.path.join(CONFIG[\"DATASET_DIR\"], \"com-dblp.ungraph.txt\")\n",
    "EUCORE_DATASET = os.path.join(CONFIG[\"DATASET_DIR\"], \"email-Eu-core.txt\")\n",
    "\n",
    "# Plot Directory\n",
    "PLOT_DIR = CONFIG[\"PLOT_DIR\"]\n",
    "\n",
    "# Output Text Files\n",
    "NEWMAN_OUTPUT_FILE = Path(\".\\output_1_NEWMAN.txt\")\n",
    "CLAUSET_OUTPUT_FILE = Path(\".\\output_1_CLAUSET.txt\")\n",
    "\n",
    "# Making the blank output files\n",
    "with open(NEWMAN_OUTPUT_FILE, \"w\") as f:\n",
    "    f.write(\"\")\n",
    "\n",
    "with open(CLAUSET_OUTPUT_FILE, \"w\") as f:\n",
    "    f.write(\"\")\n",
    "\n",
    "# NEWMAN_OUTPUT = open(NEWMAN_OUTPUT_FILE, \"a\")\n",
    "# CLAUSET_OUTPUT = open(CLAUSET_OUTPUT_FILE, \"a\")\n",
    "\n",
    "###################################################\n",
    "\n",
    "class Tee(object):\n",
    "    def __init__(self, *files):\n",
    "        self.files = files\n",
    "    def write(self, obj):\n",
    "        for f in self.files:\n",
    "            f.write(obj)\n",
    "    def flush(self):\n",
    "        pass\n",
    "\n",
    "# Configuring script to print to stdout as well as to different output files\n",
    "# backup = sys.stdout\n",
    "\n",
    "###################################################\n",
    "\n",
    "# Making undirected graph from DBLP Dataset\n",
    "Graphtype = nx.Graph()   # for undirected graph\n",
    "DBLP_GRAPH = nx.read_edgelist(DBLP_DATASET, create_using=Graphtype, nodetype=int)\n",
    "\n",
    "# Making directed graph from EUCORE Dataset\n",
    "Graphtype = nx.DiGraph()   # for directed graph\n",
    "EUCORE_GRAPH = nx.read_edgelist(EUCORE_DATASET, create_using=Graphtype, nodetype=int)\n",
    "\n",
    "###################################################\n",
    "\n",
    "def get_num_of_communities(methodname, datasetname, graph):\n",
    "    '''\n",
    "    Calculates the number of communities generated\n",
    "\n",
    "    Also returns the list of communities\n",
    "    '''\n",
    "    # Setting output file to be written into\n",
    "    # sys.stdout = Tee(sys.stdout, output_file)\n",
    "    print(\"Dataset: {}\".format(datasetname))\n",
    "\n",
    "    if(methodname == \"NEWMAN\"):\n",
    "        communities = community.girvan_newman(graph)\n",
    "        num_communities = len(list(communities))\n",
    "        print(\"Number of communities using Newman-Girvan method: {}\".format(num_communities))\n",
    "        \n",
    "    elif(methodname == \"CLAUSET\"):\n",
    "        communities = community.greedy_modularity_communities(graph)\n",
    "        num_communities = len(list(communities))\n",
    "        print(\"Number of communities using Clauset-Newman-Moore greedy modularity maximization method: {}\".format(num_communities))\n",
    "        \n",
    "    print()\n",
    "    return communities\n",
    "\n",
    "\n",
    "\n"
   ]
  },
  {
   "cell_type": "code",
   "execution_count": 5,
   "metadata": {},
   "outputs": [
    {
     "name": "stdout",
     "output_type": "stream",
     "text": [
      "1\n",
      "stuff\n"
     ]
    }
   ],
   "source": [
    "# cap.show()"
   ]
  },
  {
   "cell_type": "code",
   "execution_count": 6,
   "metadata": {},
   "outputs": [],
   "source": [
    "# with open(NEWMAN_OUTPUT_FILE, \"a\") as f:\n",
    "#     f.write(cap.stdout)\n",
    "# # NEWMAN_OUTPUT.write(cap.stdout)\n"
   ]
  },
  {
   "cell_type": "markdown",
   "metadata": {},
   "source": [
    "# Question 1"
   ]
  },
  {
   "cell_type": "markdown",
   "metadata": {},
   "source": [
    "## Part A\n",
    "\n",
    "* Number of communities using Newman-Girvan method link:\n",
    "[https://networkx.org/documentation/stable/reference/algorithms/generated/networkx.algorithms.community.centrality.girvan_newman.html#networkx.algorithms.community.centrality.girvan_newman](https://networkx.org/documentation/stable/reference/algorithms/generated/networkx.algorithms.community.centrality.girvan_newman.html#networkx.algorithms.community.centrality.girvan_newman)\n",
    "\n",
    "* Number of communities using Clauset-Newman-Moore greedy modularity\n",
    "maximization link:\n",
    "[https://networkx.org/documentation/stable/reference/algorithms/generated/networkx.algorithms.community.modularity_max.greedy_modularity_communities.html#networkx.algorithms.community.modularity_max.greedy_modularity_communities](https://networkx.org/documentation/stable/reference/algorithms/generated/networkx.algorithms.community.modularity_max.greedy_modularity_communities.html#networkx.algorithms.community.modularity_max.greedy_modularity_communities)\n"
   ]
  }
 ],
 "metadata": {
  "interpreter": {
   "hash": "fe375a9ce2d9243127937c9048facb22f9949856fe81fc1182d9f1b29e53be41"
  },
  "kernelspec": {
   "display_name": "Python 3.7.9 64-bit ('env': venv)",
   "name": "python3"
  },
  "language_info": {
   "codemirror_mode": {
    "name": "ipython",
    "version": 3
   },
   "file_extension": ".py",
   "mimetype": "text/x-python",
   "name": "python",
   "nbconvert_exporter": "python",
   "pygments_lexer": "ipython3",
   "version": "3.7.9"
  },
  "orig_nbformat": 4
 },
 "nbformat": 4,
 "nbformat_minor": 2
}
